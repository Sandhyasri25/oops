{
 "cells": [
  {
   "cell_type": "code",
   "execution_count": 3,
   "id": "baac8728-3798-4ed4-8aec-2b6aa23d6c8a",
   "metadata": {},
   "outputs": [
    {
     "name": "stdin",
     "output_type": "stream",
     "text": [
      "value for n1 1\n",
      "value for n2 2\n",
      "value for n3 3\n",
      "value for n4 4\n"
     ]
    },
    {
     "name": "stdout",
     "output_type": "stream",
     "text": [
      "1\n"
     ]
    }
   ],
   "source": [
    "class Sample:\n",
    "      def setdigits(self):\n",
    "          self.n1=int(input(\"value for n1\"))\n",
    "          self.n2=int(input(\"value for n2\"))\n",
    "          self.n3=int(input(\"value for n3\"))\n",
    "          self.n4=int(input(\"value for n4\"))\n",
    "      def getResult(self):\n",
    "          return(pow(pow(pow(self.n1,self.n2),self.n3),self.n4))\n",
    "          \n",
    "ob1=Sample()\n",
    "ob1.setdigits()\n",
    "print(ob1.getResult())\n"
   ]
  },
  {
   "cell_type": "code",
   "execution_count": 18,
   "id": "e742e2cc-d691-44ec-b07d-bad2daf859d8",
   "metadata": {},
   "outputs": [
    {
     "name": "stdin",
     "output_type": "stream",
     "text": [
      "enter name sam\n",
      "enter income 10000\n",
      "enter loanamount 2000\n"
     ]
    },
    {
     "name": "stdout",
     "output_type": "stream",
     "text": [
      "NetBalance is 8000\n"
     ]
    },
    {
     "name": "stdin",
     "output_type": "stream",
     "text": [
      "enter name raj\n",
      "enter income 450000\n",
      "enter rentamount 5000\n"
     ]
    },
    {
     "name": "stdout",
     "output_type": "stream",
     "text": [
      "NetBalance is 445000\n"
     ]
    }
   ],
   "source": [
    "class Houseplan:\n",
    "      def House_maintain(self,income,rent=0,loan_amt=0):\n",
    "          return income-rent-loan_amt\n",
    "rent,lamt=0,0\n",
    "ob=Houseplan()\n",
    "name=input(\"enter name\") \n",
    "inc=int(input(\"enter income\"))\n",
    "#Htype=input(\"Own House or Rent House[O/R]\")\n",
    "lamt=int(input(\"enter loanamount\"))\n",
    "print(\"NetBalance is\",ob.House_maintain(inc,rent,lamt))\n",
    "name=input(\"enter name\")\n",
    "inc=int(input(\"enter income\"))\n",
    "#Htype=input(\"Own House or Rent House [O/R]\")\n",
    "ramt=int(input(\"enter rentamount\"))\n",
    "print(\"NetBalance is\",ob.House_maintain(inc,rent,ramt))\n",
    "\n"
   ]
  },
  {
   "cell_type": "code",
   "execution_count": 20,
   "id": "065fc963-573e-4f1b-8f7e-99546408ac51",
   "metadata": {},
   "outputs": [
    {
     "name": "stdin",
     "output_type": "stream",
     "text": [
      "enter name sam\n",
      "enter a value 25\n",
      "enter a value 23\n",
      "enter a value 22\n",
      "do you want to continue(yes/no): no\n"
     ]
    },
    {
     "name": "stdout",
     "output_type": "stream",
     "text": [
      "studentname:sam marks1:25 marks2:23 marks3:22 total:70\n"
     ]
    }
   ],
   "source": [
    "class school:\n",
    "      def setschool(self):\n",
    "          self.name=input(\"enter name\")\n",
    "          self.marks1=int(input(\"enter a value\"))\n",
    "          self.marks2=int(input(\"enter a value\"))\n",
    "          self.marks3=int(input(\"enter a value\"))\n",
    "          self.total=self.marks1+self.marks2+self.marks3\n",
    "      def getschool(self):\n",
    "          return \"studentname:\"+self.name+\" \"+\"marks1:\"+str(self.marks1)+\" \"+\"marks2:\"+str(self.marks2)+\" \"+\"marks3:\"+str(self.marks3)+\" \"+\"total:\"+str(self.total)\n",
    "s=[]\n",
    "while True:\n",
    "      c=school()\n",
    "      c.setschool()\n",
    "      s.append(c)\n",
    "      choice=input(\"do you want to continue(yes/no):\")\n",
    "      if choice=='no':\n",
    "         break\n",
    "for c in s:\n",
    "    print(c.getschool())\n",
    "         "
   ]
  },
  {
   "cell_type": "code",
   "execution_count": 22,
   "id": "e1f025a6-c89d-467c-9d0c-40a07f170134",
   "metadata": {},
   "outputs": [
    {
     "name": "stdin",
     "output_type": "stream",
     "text": [
      "value for n 23\n"
     ]
    },
    {
     "name": "stdout",
     "output_type": "stream",
     "text": [
      "['23', '32']\n"
     ]
    }
   ],
   "source": [
    "def digit_pair(n):\n",
    "    d=str(n)\n",
    "    a=[]\n",
    "    for i in range(len(d)):\n",
    "        for j in range(i+1,len(d)):\n",
    "            a.append(d[i]+d[j])\n",
    "            a.append(d[j]+d[i])\n",
    "    return a\n",
    "n=int(input(\"value for n\"))\n",
    "m=digit_pair(n)\n",
    "print(m)"
   ]
  },
  {
   "cell_type": "code",
   "execution_count": 24,
   "id": "4212f656-5b24-4b3a-be31-a91878cb2107",
   "metadata": {},
   "outputs": [
    {
     "name": "stdin",
     "output_type": "stream",
     "text": [
      "enter a name sam\n",
      "enter a value 23\n",
      "enter a value 24\n",
      "enter a value 25\n",
      "Do you want to continue(yes/no): no\n"
     ]
    },
    {
     "name": "stdout",
     "output_type": "stream",
     "text": [
      "studentname:sam mark1:23 mark2:24 mark3:25 total72\n"
     ]
    }
   ],
   "source": [
    "l=[]\n",
    "while True:\n",
    "      s=input(\"enter a name\")\n",
    "      m1=int(input(\"enter a value\"))\n",
    "      m2=int(input(\"enter a value\"))\n",
    "      m3=int(input(\"enter a value\"))\n",
    "      total=m1+m2+m3\n",
    "      c=\"studentname:\"+s+\" \"+\"mark1:\"+str(m1)+\" \"+\"mark2:\"+str(m2)+\" \"+\"mark3:\"+str(m3)+\" \"+\"total\"+str(total)\n",
    "      l.append(c)\n",
    "      choice=input(\"Do you want to continue(yes/no):\")\n",
    "      if choice=='no':\n",
    "         break\n",
    "for i in l:\n",
    "    print(i)\n",
    "    \n"
   ]
  },
  {
   "cell_type": "code",
   "execution_count": 26,
   "id": "30f3c654-90b0-45f9-8df3-2967b05500d5",
   "metadata": {},
   "outputs": [
    {
     "name": "stdin",
     "output_type": "stream",
     "text": [
      "enter name raju\n",
      "enter a value 23\n",
      "enter a value 24\n",
      "enter a value 25\n",
      "do you want to continue(yes/no): no\n"
     ]
    },
    {
     "name": "stdout",
     "output_type": "stream",
     "text": [
      "studentname:raju marks1:23 marks2:24 marks3:25 total:72\n"
     ]
    }
   ],
   "source": [
    "class school:\n",
    "      def setschool(self):\n",
    "          self.name=input(\"enter name\")\n",
    "          self.marks1=int(input(\"enter a value\"))\n",
    "          self.marks2=int(input(\"enter a value\"))\n",
    "          self.marks3=int(input(\"enter a value\"))\n",
    "          self.total=self.marks1+self.marks2+self.marks3\n",
    "      def getschool(self):\n",
    "          return \"studentname:\"+self.name+\" \"+\"marks1:\"+str(self.marks1)+\" \"+\"marks2:\"+str(self.marks2)+\" \"+\"marks3:\"+str(self.marks3)+\" \"+\"total:\"+str(self.total)\n",
    "s=[]\n",
    "while True:\n",
    "      c=school()\n",
    "      c.setschool()\n",
    "      s.append(c)\n",
    "      choice=input(\"do you want to continue(yes/no):\")\n",
    "      if choice=='no':\n",
    "         break\n",
    "for c in s:\n",
    "    print(c.getschool())\n",
    "         "
   ]
  },
  {
   "cell_type": "code",
   "execution_count": 28,
   "id": "1474b735-88c5-4cca-9b56-688ff744f272",
   "metadata": {},
   "outputs": [
    {
     "name": "stdout",
     "output_type": "stream",
     "text": [
      "kiran's marks:\n",
      "maths:85\n",
      "science:90\n",
      "satish's marks:\n",
      "maths:78\n",
      "science:88\n",
      "ajay's marks:\n",
      "maths:92\n",
      "science:85\n"
     ]
    }
   ],
   "source": [
    "students=[\"kiran\",\"satish\",\"ajay\"]\n",
    "student_marks={\n",
    "       \"kiran\":{\"maths\":85,\"science\":90},\n",
    "       \"satish\":{\"maths\":78,\"science\":88},\n",
    "       \"ajay\":{\"maths\":92,\"science\":85}\n",
    "}\n",
    "for student in students:\n",
    "    print(f\"{student}'s marks:\")\n",
    "    for subject,marks in student_marks[student].items():\n",
    "        print(f\"{subject}:{marks}\")\n",
    "        "
   ]
  },
  {
   "cell_type": "code",
   "execution_count": 1,
   "id": "f94b8685-918b-4b01-a10b-30de4d7ad2f1",
   "metadata": {},
   "outputs": [
    {
     "name": "stdout",
     "output_type": "stream",
     "text": [
      "Book '1984' added to the library.\n",
      "Book 'To Kill a Mockingbird' added to the library.\n",
      "Book 'The Great Gatsby' added to the library.\n",
      "Available books in the library:\n",
      "Title: 1984, Author: George Orwell, ISBN: 1234567890, Status: available\n",
      "Title: To Kill a Mockingbird, Author: Harper Lee, ISBN: 2345678901, Status: available\n",
      "Title: The Great Gatsby, Author: F. Scott Fitzgerald, ISBN: 3456789012, Status: available\n",
      "John Doe has borrowed '1984'.\n",
      "Name: John Doe, Member ID: M001, Email: john.doe@example.com, Borrowed Books: ['1984']\n",
      "'1984' is already borrowed.\n",
      "John Doe has returned '1984'.\n",
      "Available books in the library:\n",
      "Title: 1984, Author: George Orwell, ISBN: 1234567890, Status: available\n",
      "Title: To Kill a Mockingbird, Author: Harper Lee, ISBN: 2345678901, Status: available\n",
      "Title: The Great Gatsby, Author: F. Scott Fitzgerald, ISBN: 3456789012, Status: available\n"
     ]
    }
   ],
   "source": [
    "class Book:\n",
    "    def __init__(self, title, author, isbn, status='available'):\n",
    "        self.__title = title\n",
    "        self.__author = author\n",
    "        self.__isbn = isbn\n",
    "        self.__status = status\n",
    "    def get_title(self):\n",
    "        return self.__title \n",
    "    def get_author(self):\n",
    "        return self.__author  \n",
    "    def get_isbn(self):\n",
    "        return self.__isbn   \n",
    "    def get_status(self):\n",
    "        return self.__status\n",
    "    def set_status(self, status):\n",
    "        if status in ['available', 'borrowed']:\n",
    "            self.__status = status\n",
    "        else:\n",
    "            raise ValueError(\"Status must be either 'available' or 'borrowed'\")\n",
    "    def __str__(self):\n",
    "        return f\"Title: {self.__title}, Author: {self.__author}, ISBN: {self.__isbn}, Status: {self.__status}\"\n",
    "class Member:\n",
    "    def __init__(self, name, member_id, email):\n",
    "        self.__name = name\n",
    "        self.__member_id = member_id\n",
    "        self.__email = email\n",
    "        self.__borrowed_books = []\n",
    "    def get_name(self):\n",
    "        return self.__name \n",
    "    def get_member_id(self):\n",
    "        return self.__member_id  \n",
    "    def get_email(self):\n",
    "        return self.__email   \n",
    "    def get_borrowed_books(self):\n",
    "        return self.__borrowed_books\n",
    "    def borrow_book(self, book):\n",
    "        if book.get_status() == 'available':\n",
    "            book.set_status('borrowed')\n",
    "            self.__borrowed_books.append(book)\n",
    "            print(f\"{self.__name} has borrowed '{book.get_title()}'.\")\n",
    "        else:\n",
    "            print(f\"'{book.get_title()}' is already borrowed.\")\n",
    "    def return_book(self, book):\n",
    "        if book in self.__borrowed_books:\n",
    "            book.set_status('available')\n",
    "            self.__borrowed_books.remove(book)\n",
    "            print(f\"{self.__name} has returned '{book.get_title()}'.\")\n",
    "        else:\n",
    "            print(f\"'{book.get_title()}' is not in the borrowed books list.\")\n",
    "    def __str__(self):\n",
    "        borrowed_titles = [book.get_title() for book in self.__borrowed_books]\n",
    "        return f\"Name: {self.__name}, Member ID: {self.__member_id}, Email: {self.__email}, Borrowed Books: {borrowed_titles}\"\n",
    "class Library:\n",
    "    def __init__(self):\n",
    "        self.__inventory = []\n",
    "    def add_book(self, book):\n",
    "        self.__inventory.append(book)\n",
    "        print(f\"Book '{book.get_title()}' added to the library.\")\n",
    "    def display_books(self):\n",
    "        print(\"Available books in the library:\")\n",
    "        for book in self.__inventory:\n",
    "            print(book)\n",
    "    def find_book_by_isbn(self, isbn):\n",
    "        for book in self.__inventory:\n",
    "            if book.get_isbn() == isbn:\n",
    "                return book\n",
    "        print(\"Book not found.\")\n",
    "        return None\n",
    "    def __str__(self):\n",
    "        return f\"Library has {len(self.__inventory)} books.\"\n",
    "if __name__ == \"__main__\":\n",
    "    book1 = Book(\"1984\", \"George Orwell\", \"1234567890\")\n",
    "    book2 = Book(\"To Kill a Mockingbird\", \"Harper Lee\", \"2345678901\")\n",
    "    book3 = Book(\"The Great Gatsby\", \"F. Scott Fitzgerald\", \"3456789012\")\n",
    "    library = Library()\n",
    "    library.add_book(book1)\n",
    "    library.add_book(book2)\n",
    "    library.add_book(book3)\n",
    "    library.display_books()\n",
    "    member = Member(\"John Doe\", \"M001\", \"john.doe@example.com\")\n",
    "    member.borrow_book(book1)\n",
    "    print(member)\n",
    "    member.borrow_book(book1)\n",
    "    member.return_book(book1)\n",
    "    library.display_books()\n"
   ]
  },
  {
   "cell_type": "code",
   "execution_count": 1,
   "id": "660120ab-3742-4200-825d-df9258b814d1",
   "metadata": {},
   "outputs": [
    {
     "name": "stdin",
     "output_type": "stream",
     "text": [
      "enter the name: sam\n",
      "enter the age: 45\n",
      "enter sex: male\n",
      "enter ward_no: A102\n",
      "enter the bed_no: C\n",
      "enter chrges_per_day: 1900\n",
      "enter no_of_days_admitted: 6\n"
     ]
    },
    {
     "name": "stdout",
     "output_type": "stream",
     "text": [
      "name is sam age is45sex ismale\n",
      "and wrad.no isA102 bed_no isC charges1900\n",
      "no.of.days.admitted6\n"
     ]
    }
   ],
   "source": [
    "class Patient:\n",
    "    def setPatient(self):\n",
    "        self.name=input(\"enter the name:\")\n",
    "        self.age=input(\"enter the age:\")\n",
    "        self.sex=input(\"enter sex:\")\n",
    "    def getPatient(self):\n",
    "        return \"name is\"+\" \"+self.name+\" \"+\"age is\"+self.age+\"sex is\"+self.sex\n",
    "class IPD:\n",
    "    def setIPD(self):\n",
    "        self.ward_no=input(\"enter ward_no:\")\n",
    "        self.bed_no=input(\"enter the bed_no:\")\n",
    "        self.charges=input(\"enter chrges_per_day:\")\n",
    "    def getIPD(self):\n",
    "        return \"and wrad.no is\"+self.ward_no+\" \"+\"bed_no is\"+self.bed_no+\" \"+\"charges\"+self.charges\n",
    "class IPD_Patient(Patient,IPD):\n",
    "    def setIPD_Patient(self):\n",
    "        self.days=input(\"enter no_of_days_admitted:\")\n",
    "    def getIPD_Patient(self):\n",
    "        return\"no.of.days.admitted\"+self.days\n",
    "c=IPD_Patient()\n",
    "c.setPatient()\n",
    "c.setIPD()\n",
    "c.setIPD_Patient()\n",
    "print(c.getPatient())\n",
    "print(c.getIPD())\n",
    "print(c.getIPD_Patient())\n"
   ]
  },
  {
   "cell_type": "code",
   "execution_count": 5,
   "id": "1ae3aa41-9ce7-419e-a320-85a59975f73a",
   "metadata": {},
   "outputs": [
    {
     "name": "stdin",
     "output_type": "stream",
     "text": [
      "how many years: 5\n"
     ]
    }
   ],
   "source": [
    "class Staff:\n",
    "    def setStaff(self):\n",
    "        self.name=input(\"enter name:\")\n",
    "    def getStaff(self):\n",
    "        return self.name\n",
    "class Teacher(Staff):\n",
    "    def setTeacher(self):\n",
    "        self.subject=input(\"enter subject name:\")\n",
    "        self.phno=input(\"enter no:\")\n",
    "    def getTeacher(self):\n",
    "        return self.subject+\" \"+self.phno\n",
    "class Typist(Staff):\n",
    "    def setTypist(self):\n",
    "        self.speed=input(\"enter speed:\")\n",
    "    def getTypist(self):\n",
    "        return self.speed\n",
    "class Officer(Staff):\n",
    "    def setOfficer(self):\n",
    "        self.grade=input(\"enter grade:\")\n",
    "    def getOfficer(self):\n",
    "        return self.grade\n",
    "class Daily(Typist):\n",
    "    def setDaily(self):\n",
    "        self.wages=input(\"enter wages:\")\n",
    "    def getDaily(self):\n",
    "        return self.wages\n",
    "class Monthly(Typist):\n",
    "    def setMonthly(self):\n",
    "        self.sal=input(\"enter salary:\")\n",
    "    def getMonthly(self):\n",
    "        return self.sal\n",
    "t=input(\"how many years:\")\n",
    "if t==1:\n",
    "    c=Daily()\n",
    "    c.setStaff()\n",
    "    c.setTypist()\n",
    "    c.setDaily()\n",
    "    print(c.getStaff())\n",
    "    print(c.getTypist())\n",
    "    print(c.getDaily())\n",
    "elif t==2:\n",
    "    c=Monthly()\n",
    "    c.setStaff()\n",
    "    c.setTypist()\n",
    "    c.setMontly()\n",
    "    print(c.getStaff())\n",
    "    print(c.getTypist())\n",
    "    print(c.getMontly())\n",
    "\n",
    "\n",
    "\n"
   ]
  },
  {
   "cell_type": "code",
   "execution_count": 7,
   "id": "1c3ac9cb-9138-4eb5-afe8-99d13cc3188b",
   "metadata": {},
   "outputs": [
    {
     "name": "stdin",
     "output_type": "stream",
     "text": [
      "How many marks?  79\n",
      "Enter department name:  ece\n",
      "Enter HOD name:  krishna\n",
      "Enter student name:  sam\n",
      "Enter student ID:  202u!A0127\n",
      "Enter marks:  88\n"
     ]
    },
    {
     "name": "stdout",
     "output_type": "stream",
     "text": [
      "ece with krishna\n",
      "sam with 202u!A0127\n",
      "88\n"
     ]
    }
   ],
   "source": [
    "class Lecturer:\n",
    "    def setLecturer(self):\n",
    "        self.name = input(\"Enter name: \")\n",
    "        self.qualification = input(\"Enter qualification: \")\n",
    "\n",
    "    def getLecturer(self):\n",
    "        return self.name + \" is with \" + self.qualification\n",
    "\n",
    "\n",
    "class Department(Lecturer):\n",
    "    def setDepartment(self):\n",
    "        self.dname = input(\"Enter department name: \")\n",
    "        self.hod = input(\"Enter HOD name: \")\n",
    "\n",
    "    def getDepartment(self):\n",
    "        return self.dname + \" with \" + self.hod\n",
    "\n",
    "\n",
    "class Student(Department):\n",
    "    def setStudent(self):\n",
    "        self.sname = input(\"Enter student name: \")\n",
    "        self.sid = input(\"Enter student ID: \")\n",
    "\n",
    "    def getStudent(self):\n",
    "        return self.sname + \" with \" + self.sid\n",
    "\n",
    "\n",
    "class Marks(Student):\n",
    "    def setMarks(self):\n",
    "        self.marks = int(input(\"Enter marks: \"))\n",
    "\n",
    "    def getMarks(self):\n",
    "        return str(self.marks)\n",
    "\n",
    "\n",
    "# Main code\n",
    "marks = int(input(\"How many marks? \"))\n",
    "if marks == 75:\n",
    "    sob = Student()\n",
    "    sob.setDepartment()\n",
    "    sob.setStudent()\n",
    "    print(sob.getDepartment())\n",
    "    print(sob.getStudent())\n",
    "elif marks > 75:\n",
    "    mob = Marks()\n",
    "    mob.setDepartment()\n",
    "    mob.setStudent()\n",
    "    mob.setMarks()\n",
    "    print(mob.getDepartment())\n",
    "    print(mob.getStudent())\n",
    "    print(mob.getMarks())\n"
   ]
  },
  {
   "cell_type": "code",
   "execution_count": 9,
   "id": "27f25476-fba1-403d-90c6-d23130dce982",
   "metadata": {},
   "outputs": [
    {
     "name": "stdout",
     "output_type": "stream",
     "text": [
      "30\n"
     ]
    }
   ],
   "source": [
    "class Sample:\n",
    "    def __init__(self):\n",
    "        self.n1 = 10\n",
    "        self.n2 = 20\n",
    "\n",
    "    def addnum(self):\n",
    "        return self.n1 + self.n2\n",
    "\n",
    "\n",
    "ob1 = Sample()\n",
    "print(ob1.addnum())\n"
   ]
  },
  {
   "cell_type": "code",
   "execution_count": 11,
   "id": "d1dc27fb-2d15-4390-a879-555bb12d1625",
   "metadata": {},
   "outputs": [
    {
     "name": "stdout",
     "output_type": "stream",
     "text": [
      "1. Student\n",
      "2. Employee\n"
     ]
    },
    {
     "name": "stdin",
     "output_type": "stream",
     "text": [
      "Enter choice [1, 2]:  1\n",
      "Enter house number:  123\n",
      "Enter city:  nellore\n",
      "Enter Roll Number:  202U1A0127\n",
      "Enter Student Name:  jay\n"
     ]
    },
    {
     "name": "stdout",
     "output_type": "stream",
     "text": [
      "jay roll number is 202U1A0127\n",
      "and staying at House Number 123 in nellore\n"
     ]
    }
   ],
   "source": [
    "class Address:\n",
    "    def setAddress(self):\n",
    "        self.hno = input(\"Enter house number: \")\n",
    "        self.city = input(\"Enter city: \")\n",
    "\n",
    "    def getAddress(self):\n",
    "        return \"and staying at House Number \" + self.hno + \" in \" + self.city\n",
    "\n",
    "\n",
    "class Student(Address):\n",
    "    def setStudent(self):\n",
    "        self.rollno = input(\"Enter Roll Number: \")\n",
    "        self.sname = input(\"Enter Student Name: \")\n",
    "\n",
    "    def getStudent(self):\n",
    "        return self.sname + \" roll number is \" + self.rollno\n",
    "\n",
    "\n",
    "class Employee(Address):\n",
    "    def setEmployee(self):\n",
    "        self.ename = input(\"Enter Employee Name: \")\n",
    "        self.job = input(\"Enter Employee Job: \")\n",
    "\n",
    "    def getEmployee(self):\n",
    "        return self.ename + \" working as \" + self.job\n",
    "\n",
    "\n",
    "# Main Program\n",
    "print(\"1. Student\\n2. Employee\")\n",
    "ch = int(input(\"Enter choice [1, 2]: \"))\n",
    "\n",
    "if ch == 1:\n",
    "    sob = Student()\n",
    "    sob.setAddress()\n",
    "    sob.setStudent()\n",
    "    print(sob.getStudent())\n",
    "    print(sob.getAddress())\n",
    "elif ch == 2:\n",
    "    eob = Employee()\n",
    "    eob.setAddress()\n",
    "    eob.setEmployee()\n",
    "    print(eob.getEmployee())\n",
    "    print(eob.getAddress())\n",
    "else:\n",
    "    print(\"Invalid choice!\")\n"
   ]
  },
  {
   "cell_type": "code",
   "execution_count": null,
   "id": "df170022-e0a3-4b3a-b5d8-6664c1adf5f1",
   "metadata": {},
   "outputs": [],
   "source": []
  }
 ],
 "metadata": {
  "kernelspec": {
   "display_name": "Python 3 (ipykernel)",
   "language": "python",
   "name": "python3"
  },
  "language_info": {
   "codemirror_mode": {
    "name": "ipython",
    "version": 3
   },
   "file_extension": ".py",
   "mimetype": "text/x-python",
   "name": "python",
   "nbconvert_exporter": "python",
   "pygments_lexer": "ipython3",
   "version": "3.12.7"
  }
 },
 "nbformat": 4,
 "nbformat_minor": 5
}
